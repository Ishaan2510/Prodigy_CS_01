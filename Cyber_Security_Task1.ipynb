{
 "cells": [
  {
   "cell_type": "markdown",
   "id": "c0428482-98fc-47d5-a219-c1633a0393fb",
   "metadata": {},
   "source": [
    "Task 1:Implement Caesar Cipher\n",
    "\n",
    "Create a Python program that can encrypt and decrypt text using the Caesar Cipher algorithm. Allow users to input a message and a shift value to perform encryption and decryption."
   ]
  },
  {
   "cell_type": "markdown",
   "id": "211dc4e7-2978-4b96-8145-d4cc2eb37a5e",
   "metadata": {},
   "source": [
    "First of all what is encryption and why it is required?\n",
    "\n",
    "Encryption is the process of converting plaintext (readable data) into ciphertext (encoded data) using an algorithm and a key.The purpose of encryption is to protect the confidentiality of data by making it unreadable to unauthorized users. Here are key reasons why encryption is essential:\n",
    "\n",
    "1. Data Protection: Encryption ensures that sensitive information, such as personal data, financial details, and proprietary business information, is protected from unauthorized access, even if it is intercepted during transmission or compromised while stored.\n",
    "\n",
    "2. Privacy: Encryption helps in maintaining the privacy of individuals and organizations by safeguarding their communications and data from being accessed or read by unauthorized parties.\n",
    "\n",
    "3. Security: Encryption adds an extra layer of security to data, making it difficult for cybercriminals to exploit stolen information. Even if data is intercepted, it remains unusable without the correct decryption key.\n",
    "\n",
    "4. Compliance: Many industries and regulatory bodies mandate the use of encryption to protect sensitive data. Compliance with these regulations is essential for avoiding legal penalties and maintaining customer trust.\n",
    "\n",
    "5. Data Integrity: Encryption helps in verifying that the data has not been altered or tampered with during transmission or storage. This ensures the integrity and authenticity of the data.\n",
    "\n",
    "6. Authentication: Encryption can be used to verify the identities of communicating parties, ensuring that the data is being sent and received by the intended parties."
   ]
  },
  {
   "cell_type": "code",
   "execution_count": null,
   "id": "51751983-c511-482f-b1a8-acc7e30c9624",
   "metadata": {},
   "outputs": [
    {
     "name": "stdout",
     "output_type": "stream",
     "text": [
      "Caesar Cipher Program\n"
     ]
    }
   ],
   "source": [
    "def caesar_cipher(text, shift, mode):\n",
    "    caesar_cipher_text = \"\"\n",
    "    \n",
    "    for i in range(len(text)):\n",
    "        char = text[i]\n",
    "        \n",
    "        if char.isupper():\n",
    "            if mode == \"encrypt\":\n",
    "                caesar_cipher_text += chr((ord(char) + shift - 65) % 26 + 65)\n",
    "            elif mode == \"decrypt\":\n",
    "                caesar_cipher_text += chr((ord(char) - shift - 65) % 26 + 65)\n",
    "        \n",
    "\n",
    "        elif char.islower():\n",
    "            if mode == \"encrypt\":\n",
    "                    caesar_cipher_text += chr((ord(char) + shift - 97) % 26 + 97)\n",
    "            elif mode == \"decrypt\":\n",
    "                caesar_cipher_text += chr((ord(char) - shift - 97) % 26 + 97)\n",
    "        \n",
    "        else:\n",
    "            caesar_cipher_text += char\n",
    "    \n",
    "    return caesar_cipher_text\n",
    "\n",
    "def main():\n",
    "    print(\"Caesar Cipher Program\")\n",
    "    \n",
    "    text = input(\"Enter your message: \")\n",
    "    shift = int(input(\"Enter shift value: \"))\n",
    "    mode = input(\"Type 'encrypt' to encrypt or 'decrypt' to decrypt: \").lower()\n",
    "    \n",
    "    if mode not in [\"encrypt\", \"decrypt\"]:\n",
    "        print(\"Invalid mode. Please type 'encrypt' or 'decrypt'.\")\n",
    "        return\n",
    "    \n",
    "    result = caesar_cipher(text, shift, mode)\n",
    "    print(f\"The Ciphered Text is : {result}\")\n",
    "\n",
    "if __name__ == \"__main__\":\n",
    "    main()\n"
   ]
  },
  {
   "cell_type": "code",
   "execution_count": null,
   "id": "8aa4a733-82ae-46a9-9777-8fb2d0d3dba8",
   "metadata": {},
   "outputs": [],
   "source": []
  }
 ],
 "metadata": {
  "kernelspec": {
   "display_name": "Python 3 (ipykernel)",
   "language": "python",
   "name": "python3"
  },
  "language_info": {
   "codemirror_mode": {
    "name": "ipython",
    "version": 3
   },
   "file_extension": ".py",
   "mimetype": "text/x-python",
   "name": "python",
   "nbconvert_exporter": "python",
   "pygments_lexer": "ipython3",
   "version": "3.12.1"
  }
 },
 "nbformat": 4,
 "nbformat_minor": 5
}
